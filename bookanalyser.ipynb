{
 "cells": [
  {
   "cell_type": "markdown",
   "id": "36f2a1b4-5812-40cd-8afb-17f155097191",
   "metadata": {},
   "source": [
    "DATA INGESTION"
   ]
  },
  {
   "cell_type": "code",
   "execution_count": 3,
   "id": "015a396e-d993-4609-b0a8-ebf6431408b4",
   "metadata": {},
   "outputs": [],
   "source": [
    "import os\n",
    "\n",
    "key=os.environ.get('OPENAI_API_KEY')"
   ]
  },
  {
   "cell_type": "code",
   "execution_count": 12,
   "id": "2f5a7574-aab0-452c-bd70-721acbfba6f7",
   "metadata": {},
   "outputs": [
    {
     "name": "stdout",
     "output_type": "stream",
     "text": [
      "{'source': 'rawdata/Blossoms of savannah.book(1-7).pdf', 'page': 10}\n",
      "\n",
      "the bigger picture of their relocation. When her husband\n",
      "broke the news that he had been retrenched, she was\n",
      "dumbfounded. It was as though a thunderbolt had struck\n",
      "her out of a midday blue sky. Ever since she got married\n",
      "to Ole Kaelo twenty-two years earlier, Agribix Limited\n",
      "had been her husband's employer and the sole source of\n",
      "her family's livelihood. Now that it was closing its door\n",
      "on them, she felt as if providence itself was turning off\n",
      "the valve that supplied the vital air that sustained their\n",
      "lives. But her husband had received the distressing news\n",
      "stoically. He had said it was an inevitability that was\n",
      "always coming. It began its journey the day he was\n",
      "engaged and now, like a baby who must be born at the\n",
      "fullness of time, this had come to pass. He counseled and\n",
      "convinced her that she had nothing to fear for he had\n",
      "prepared for that eventuality. He was of the opinion that\n",
      "they could go back home and start afresh; embrace the\n",
      "life of their community.\n",
      "Once she was convinced that relocation would\n",
      "enable them begin a new phase of life, she became\n",
      "unflaggingly enthusiastic. She began to see in her mind\n",
      "how a brand new house and a well-stocked shop that her\n",
      "husband promised to set up on the right side of Nasila\n",
      "town, predictably offered glamour and a chance to be\n",
      "associated with the great and the powerful of the land.\n",
      "She saw a chance for her family to share the good\n",
      "fortune enjoyed by those who were already happily\n",
      "settled in the rural town. But above all, she thought, it\n",
      "would be easier to marry off her two girls in the new\n",
      "town than in the melting pot that Nakuru town had\n",
      "become. Yes, two sons-in-law from reputable families in\n",
      "the land could easily catapult them right into the centre\n"
     ]
    }
   ],
   "source": [
    "from langchain_community.document_loaders import PyPDFLoader\n",
    "#from langchain_community.document_loaders import OnlinePDFLoader\n",
    "\n",
    "local_path=\"rawdata/Blossoms of savannah.book(1-7).pdf\"\n",
    "\n",
    "if os.path.exists(local_path):\n",
    "    loader = PyPDFLoader(local_path)\n",
    "else:\n",
    "    print(f\"File not found: {local_path}\")\n",
    "\n",
    "pages = []\n",
    "async for page in loader.alazy_load():\n",
    "    pages.append(page)\n",
    "print(f\"{pages[10].metadata}\\n\")\n",
    "print(pages[10].page_content)\n"
   ]
  },
  {
   "cell_type": "markdown",
   "id": "2c0eae3b-6898-4e41-afc0-b1fa1cb08a34",
   "metadata": {},
   "source": [
    "VECTOR EMBEDDINGS"
   ]
  },
  {
   "cell_type": "code",
   "execution_count": null,
   "id": "fea9b05c-c644-4fce-a67b-76e60e856b18",
   "metadata": {},
   "outputs": [],
   "source": []
  },
  {
   "cell_type": "markdown",
   "id": "755e5456-2bec-42d5-9147-423f32a42b24",
   "metadata": {},
   "source": [
    "RETRIEVAL"
   ]
  }
 ],
 "metadata": {
  "kernelspec": {
   "display_name": "Python 3 (ipykernel)",
   "language": "python",
   "name": "python3"
  },
  "language_info": {
   "codemirror_mode": {
    "name": "ipython",
    "version": 3
   },
   "file_extension": ".py",
   "mimetype": "text/x-python",
   "name": "python",
   "nbconvert_exporter": "python",
   "pygments_lexer": "ipython3",
   "version": "3.12.2"
  }
 },
 "nbformat": 4,
 "nbformat_minor": 5
}
